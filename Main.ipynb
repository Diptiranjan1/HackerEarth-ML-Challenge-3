{
 "cells": [
  {
   "cell_type": "code",
   "execution_count": 1,
   "metadata": {
    "collapsed": false
   },
   "outputs": [],
   "source": [
    "import pandas as pd\n",
    "import numpy as np\n",
    "from catboost import CatBoostClassifier\n",
    "from sklearn.model_selection import train_test_split\n",
    "\n"
   ]
  },
  {
   "cell_type": "code",
   "execution_count": 2,
   "metadata": {
    "collapsed": true
   },
   "outputs": [],
   "source": [
    "train = pd.read_csv(\"train.csv\")\n",
    "test = pd.read_csv(\"test.csv\")"
   ]
  },
  {
   "cell_type": "code",
   "execution_count": 3,
   "metadata": {
    "collapsed": false
   },
   "outputs": [
    {
     "data": {
      "text/plain": [
       "ID             0.000000\n",
       "datetime       0.000000\n",
       "siteid         0.099896\n",
       "offerid        0.000000\n",
       "category       0.000000\n",
       "merchant       0.000000\n",
       "countrycode    0.000000\n",
       "browserid      0.050118\n",
       "devid          0.149969\n",
       "click          0.000000\n",
       "dtype: float64"
      ]
     },
     "execution_count": 3,
     "metadata": {},
     "output_type": "execute_result"
    }
   ],
   "source": [
    "# check missing values per column\n",
    "train.isnull().sum(axis=0)/train.shape[0]"
   ]
  },
  {
   "cell_type": "code",
   "execution_count": 3,
   "metadata": {
    "collapsed": false
   },
   "outputs": [
    {
     "name": "stdout",
     "output_type": "stream",
     "text": [
      "Blank filling started\n",
      "Mobile part done for TRAIN\n",
      "Desktop part done for TRAIN\n",
      "Desktop part done for TRAIN\n"
     ]
    }
   ],
   "source": [
    "# imputing missing values\n",
    "train['siteid'].fillna(-999, inplace=True)\n",
    "test['siteid'].fillna(-999, inplace=True)\n",
    "\n",
    "train['browserid'].fillna(\"None\",inplace=True)\n",
    "test['browserid'].fillna(\"None\", inplace=True)\n",
    "\n",
    "print ('Blank filling started')\n",
    "index=train.browserid[train.browserid=='Firefox'].index.tolist()\n",
    "train.iloc[index,8]='Mobile'\n",
    "\n",
    "index=train.browserid[train.browserid=='Google Chrome'].index.tolist()\n",
    "train.iloc[index,8]='Mobile'\n",
    "\n",
    "index=train.browserid[train.browserid=='IE'].index.tolist()\n",
    "train.iloc[index,8]='Mobile'\n",
    "\n",
    "index=train.browserid[train.browserid=='Opera'].index.tolist()\n",
    "train.iloc[index,8]='Mobile'\n",
    "print ('Mobile part done for TRAIN')\n",
    "\n",
    "index=train.browserid[train.browserid=='Chrome'].index.tolist()\n",
    "train.iloc[index,8]='Desktop'\n",
    "\n",
    "index=train.browserid[train.browserid=='InternetExplorer'].index.tolist()\n",
    "train.iloc[index,8]='Desktop'\n",
    "\n",
    "index=train.browserid[train.browserid=='Mozilla'].index.tolist()\n",
    "train.iloc[index,8]='Desktop'\n",
    "\n",
    "index=train.browserid[train.browserid=='Mozilla Firefox'].index.tolist()\n",
    "train.iloc[index,8]='Desktop'\n",
    "print ('Desktop part done for TRAIN')\n",
    "\n",
    "index=train.browserid[train.browserid=='Edge'].index.tolist()\n",
    "train.iloc[index,8]='Tablet'\n",
    "\n",
    "index=train.browserid[train.browserid=='Internet Explorer'].index.tolist()\n",
    "train.iloc[index,8]='Tablet'\n",
    "\n",
    "index=train.browserid[train.browserid=='Safari'].index.tolist()\n",
    "train.iloc[index,8]='Tablet'\n",
    "\n",
    "train['devid'].fillna(\"None\",inplace=True)\n",
    "print ('Desktop part done for TRAIN')"
   ]
  },
  {
   "cell_type": "code",
   "execution_count": 4,
   "metadata": {
    "collapsed": false
   },
   "outputs": [
    {
     "name": "stdout",
     "output_type": "stream",
     "text": [
      "Blank filling started\n",
      "Mobile part done for TRAIN\n",
      "Desktop part done for TRAIN\n"
     ]
    }
   ],
   "source": [
    "print ('Blank filling started')\n",
    "index=test.browserid[test.browserid=='Firefox'].index.tolist()\n",
    "test.iloc[index,8]='Mobile'\n",
    "\n",
    "index=test.browserid[test.browserid=='Google Chrome'].index.tolist()\n",
    "test.iloc[index,8]='Mobile'\n",
    "\n",
    "index=test.browserid[test.browserid=='IE'].index.tolist()\n",
    "test.iloc[index,8]='Mobile'\n",
    "\n",
    "index=test.browserid[test.browserid=='Opera'].index.tolist()\n",
    "test.iloc[index,8]='Mobile'\n",
    "print ('Mobile part done for TRAIN')\n",
    "\n",
    "index=test.browserid[test.browserid=='Chrome'].index.tolist()\n",
    "test.iloc[index,8]='Desktop'\n",
    "\n",
    "index=test.browserid[test.browserid=='InternetExplorer'].index.tolist()\n",
    "test.iloc[index,8]='Desktop'\n",
    "\n",
    "index=test.browserid[test.browserid=='Mozilla'].index.tolist()\n",
    "test.iloc[index,8]='Desktop'\n",
    "\n",
    "index=test.browserid[test.browserid=='Mozilla Firefox'].index.tolist()\n",
    "test.iloc[index,8]='Desktop'\n",
    "print ('Desktop part done for TRAIN')\n",
    "\n",
    "index=test.browserid[test.browserid=='Edge'].index.tolist()\n",
    "test.iloc[index,8]='Tablet'\n",
    "\n",
    "index=test.browserid[test.browserid=='Internet Explorer'].index.tolist()\n",
    "test.iloc[index,8]='Tablet'\n",
    "\n",
    "index=test.browserid[test.browserid=='Safari'].index.tolist()\n",
    "test.iloc[index,8]='Tablet'"
   ]
  },
  {
   "cell_type": "code",
   "execution_count": 5,
   "metadata": {
    "collapsed": true
   },
   "outputs": [],
   "source": [
    "# impute missing values\n",
    "\n",
    "train['siteid'].fillna(-999, inplace=True)\n",
    "test['siteid'].fillna(-999, inplace=True)\n",
    "\n",
    "train['browserid'].fillna(\"None\", inplace=True)\n",
    "test['browserid'].fillna(\"None\", inplace=True)\n",
    "\n",
    "train['devid'].fillna(\"None\", inplace=True)\n",
    "test['devid'].fillna(\"None\", inplace=True)"
   ]
  },
  {
   "cell_type": "code",
   "execution_count": 6,
   "metadata": {
    "collapsed": false
   },
   "outputs": [
    {
     "name": "stdout",
     "output_type": "stream",
     "text": [
      "['Mozilla Firefox' 'Edge' 'Chrome' 'None' 'IE' 'Opera' 'Safari']\n"
     ]
    }
   ],
   "source": [
    "train.browserid.replace(['Mozilla', 'Firefox'], ['Mozilla Firefox', 'Mozilla Firefox'], inplace=True)\n",
    "train.browserid.replace(['Internet Explorer', 'InternetExplorer'], ['IE', 'IE'], inplace=True)\n",
    "train.browserid.replace(['Google Chrome'], ['Chrome'], inplace=True)\n",
    "\n",
    "print(train.browserid.unique())"
   ]
  },
  {
   "cell_type": "code",
   "execution_count": 7,
   "metadata": {
    "collapsed": false
   },
   "outputs": [
    {
     "name": "stdout",
     "output_type": "stream",
     "text": [
      "['Mozilla Firefox' 'Edge' 'Chrome' 'IE' 'Safari' 'None' 'Opera']\n"
     ]
    }
   ],
   "source": [
    "test.browserid.replace(['Mozilla', 'Firefox'], ['Mozilla Firefox', 'Mozilla Firefox'], inplace=True)\n",
    "test.browserid.replace(['Internet Explorer', 'InternetExplorer'], ['IE', 'IE'], inplace=True)\n",
    "test.browserid.replace(['Google Chrome'], ['Chrome'], inplace=True)\n",
    "print(test.browserid.unique())"
   ]
  },
  {
   "cell_type": "code",
   "execution_count": 8,
   "metadata": {
    "collapsed": true
   },
   "outputs": [],
   "source": [
    "# set datatime\n",
    "train['datetime'] = pd.to_datetime(train['datetime'])\n",
    "test['datetime'] = pd.to_datetime(test['datetime'])"
   ]
  },
  {
   "cell_type": "code",
   "execution_count": 9,
   "metadata": {
    "collapsed": true
   },
   "outputs": [],
   "source": [
    "# create datetime variable\n",
    "train['tweekday'] = train['datetime'].dt.weekday\n",
    "train['thour'] = train['datetime'].dt.hour\n",
    "train['tminute'] = train['datetime'].dt.minute\n",
    "\n",
    "test['tweekday'] = test['datetime'].dt.weekday\n",
    "test['thour'] = test['datetime'].dt.hour\n",
    "test['tminute'] = test['datetime'].dt.minute"
   ]
  },
  {
   "cell_type": "code",
   "execution_count": 10,
   "metadata": {
    "collapsed": true
   },
   "outputs": [],
   "source": [
    "cols = ['siteid','offerid','category','merchant']\n",
    "\n",
    "for x in cols:\n",
    "    train[x] = train[x].astype('object')\n",
    "    test[x] = test[x].astype('object')"
   ]
  },
  {
   "cell_type": "code",
   "execution_count": 11,
   "metadata": {
    "collapsed": true
   },
   "outputs": [],
   "source": [
    "# Label Encoding\n",
    "from sklearn.preprocessing import LabelEncoder\n",
    "for c in list(train.select_dtypes(include=['object']).columns):\n",
    "    if c != 'ID':\n",
    "        lbl = LabelEncoder()\n",
    "        lbl.fit(list(train[c].values) + list(test[c].values))\n",
    "        train[c] = lbl.transform(list(train[c].values))\n",
    "        test[c] = lbl.transform(list(test[c].values))\n",
    "\n"
   ]
  },
  {
   "cell_type": "markdown",
   "metadata": {},
   "source": [
    "# CATBOOST"
   ]
  },
  {
   "cell_type": "code",
   "execution_count": 12,
   "metadata": {
    "collapsed": false
   },
   "outputs": [],
   "source": [
    "cols_to_use = list(set(train.columns) - set(['ID','datetime','click','tminute']))\n",
    "\n",
    "# catboost accepts categorical variables as indexes\n",
    "cat_cols = [0,1,2,3,4,6,7,8]\n",
    "#train[cat_cols].head()"
   ]
  },
  {
   "cell_type": "code",
   "execution_count": 23,
   "metadata": {
    "collapsed": false
   },
   "outputs": [
    {
     "data": {
      "text/html": [
       "<div>\n",
       "<table border=\"1\" class=\"dataframe\">\n",
       "  <thead>\n",
       "    <tr style=\"text-align: right;\">\n",
       "      <th></th>\n",
       "      <th>ID</th>\n",
       "      <th>datetime</th>\n",
       "      <th>siteid</th>\n",
       "      <th>offerid</th>\n",
       "      <th>category</th>\n",
       "      <th>merchant</th>\n",
       "      <th>countrycode</th>\n",
       "      <th>browserid</th>\n",
       "      <th>devid</th>\n",
       "      <th>click</th>\n",
       "      <th>tweekday</th>\n",
       "      <th>thour</th>\n",
       "      <th>tminute</th>\n",
       "    </tr>\n",
       "  </thead>\n",
       "  <tbody>\n",
       "    <tr>\n",
       "      <th>0</th>\n",
       "      <td>IDsrk7SoW</td>\n",
       "      <td>2017-01-14 09:42:09</td>\n",
       "      <td>128865</td>\n",
       "      <td>784773</td>\n",
       "      <td>48</td>\n",
       "      <td>127</td>\n",
       "      <td>4</td>\n",
       "      <td>3</td>\n",
       "      <td>1</td>\n",
       "      <td>0</td>\n",
       "      <td>5</td>\n",
       "      <td>9</td>\n",
       "      <td>42</td>\n",
       "    </tr>\n",
       "    <tr>\n",
       "      <th>1</th>\n",
       "      <td>IDmMSxHur</td>\n",
       "      <td>2017-01-18 17:50:53</td>\n",
       "      <td>142053</td>\n",
       "      <td>157563</td>\n",
       "      <td>59</td>\n",
       "      <td>65</td>\n",
       "      <td>1</td>\n",
       "      <td>3</td>\n",
       "      <td>0</td>\n",
       "      <td>0</td>\n",
       "      <td>2</td>\n",
       "      <td>17</td>\n",
       "      <td>50</td>\n",
       "    </tr>\n",
       "    <tr>\n",
       "      <th>2</th>\n",
       "      <td>IDVLNN0Ut</td>\n",
       "      <td>2017-01-11 12:46:49</td>\n",
       "      <td>2618</td>\n",
       "      <td>458279</td>\n",
       "      <td>69</td>\n",
       "      <td>15</td>\n",
       "      <td>0</td>\n",
       "      <td>1</td>\n",
       "      <td>3</td>\n",
       "      <td>0</td>\n",
       "      <td>2</td>\n",
       "      <td>12</td>\n",
       "      <td>46</td>\n",
       "    </tr>\n",
       "    <tr>\n",
       "      <th>3</th>\n",
       "      <td>ID32T6wwQ</td>\n",
       "      <td>2017-01-17 10:18:43</td>\n",
       "      <td>243406</td>\n",
       "      <td>345067</td>\n",
       "      <td>117</td>\n",
       "      <td>507</td>\n",
       "      <td>2</td>\n",
       "      <td>3</td>\n",
       "      <td>1</td>\n",
       "      <td>0</td>\n",
       "      <td>1</td>\n",
       "      <td>10</td>\n",
       "      <td>18</td>\n",
       "    </tr>\n",
       "    <tr>\n",
       "      <th>4</th>\n",
       "      <td>IDqUShzMg</td>\n",
       "      <td>2017-01-14 16:02:33</td>\n",
       "      <td>154278</td>\n",
       "      <td>417948</td>\n",
       "      <td>36</td>\n",
       "      <td>276</td>\n",
       "      <td>3</td>\n",
       "      <td>3</td>\n",
       "      <td>0</td>\n",
       "      <td>0</td>\n",
       "      <td>5</td>\n",
       "      <td>16</td>\n",
       "      <td>2</td>\n",
       "    </tr>\n",
       "  </tbody>\n",
       "</table>\n",
       "</div>"
      ],
      "text/plain": [
       "          ID            datetime  siteid  offerid  category  merchant  \\\n",
       "0  IDsrk7SoW 2017-01-14 09:42:09  128865   784773        48       127   \n",
       "1  IDmMSxHur 2017-01-18 17:50:53  142053   157563        59        65   \n",
       "2  IDVLNN0Ut 2017-01-11 12:46:49    2618   458279        69        15   \n",
       "3  ID32T6wwQ 2017-01-17 10:18:43  243406   345067       117       507   \n",
       "4  IDqUShzMg 2017-01-14 16:02:33  154278   417948        36       276   \n",
       "\n",
       "   countrycode  browserid  devid  click  tweekday  thour  tminute  \n",
       "0            4          3      1      0         5      9       42  \n",
       "1            1          3      0      0         2     17       50  \n",
       "2            0          1      3      0         2     12       46  \n",
       "3            2          3      1      0         1     10       18  \n",
       "4            3          3      0      0         5     16        2  "
      ]
     },
     "execution_count": 23,
     "metadata": {},
     "output_type": "execute_result"
    }
   ],
   "source": [
    "train.head()"
   ]
  },
  {
   "cell_type": "code",
   "execution_count": 13,
   "metadata": {
    "collapsed": false
   },
   "outputs": [],
   "source": [
    "# modeling on sampled (1e6) rows\n",
    "sampled_train = train.ix[:4000000, :]"
   ]
  },
  {
   "cell_type": "code",
   "execution_count": 26,
   "metadata": {
    "collapsed": true
   },
   "outputs": [],
   "source": [
    "trainX = sampled_train[cols_to_use]\n",
    "trainY = sampled_train['click']"
   ]
  },
  {
   "cell_type": "code",
   "execution_count": 19,
   "metadata": {
    "collapsed": true
   },
   "outputs": [],
   "source": []
  },
  {
   "cell_type": "code",
   "execution_count": 27,
   "metadata": {
    "collapsed": true
   },
   "outputs": [],
   "source": [
    "X_train, X_test, y_train, y_test = train_test_split(trainX, trainY, test_size = 0.5)\n",
    "model = CatBoostClassifier(depth=10, iterations=30, learning_rate=0.1, eval_metric='AUC', random_seed=1)\n",
    "\n",
    "#model = CatBoostClassifier(depth=15, iterations=40, learning_rate=0.1, eval_metric='AUC', random_seed=140)\n",
    "#0.67683 #4*1e6\n",
    "\n",
    "#model = CatBoostClassifier(depth=10, iterations=20, learning_rate=0.1, eval_metric='AUC', random_seed=140)\n",
    "#0.67642 #4*1e6"
   ]
  },
  {
   "cell_type": "code",
   "execution_count": 28,
   "metadata": {
    "collapsed": false
   },
   "outputs": [
    {
     "data": {
      "text/plain": [
       "<catboost.core.CatBoostClassifier at 0x7f932f295eb8>"
      ]
     },
     "execution_count": 28,
     "metadata": {},
     "output_type": "execute_result"
    }
   ],
   "source": [
    "model.fit(X_train\n",
    "          ,y_train\n",
    "          ,cat_features=cat_cols\n",
    "          ,eval_set = (X_test, y_test)\n",
    "          ,use_best_model = True\n",
    "         )"
   ]
  },
  {
   "cell_type": "code",
   "execution_count": 29,
   "metadata": {
    "collapsed": true
   },
   "outputs": [],
   "source": [
    "pred = model.predict_proba(test[cols_to_use])[:,1]\n",
    "sub = pd.DataFrame({'ID':test['ID'],'click':pred})\n",
    "sub.to_csv('cb_1.csv',index=False)\n"
   ]
  },
  {
   "cell_type": "code",
   "execution_count": 30,
   "metadata": {
    "collapsed": true
   },
   "outputs": [],
   "source": [
    "del pred\n",
    "del sub\n",
    "del trainX\n",
    "del trainY\n",
    "del X_train\n",
    "del y_train"
   ]
  },
  {
   "cell_type": "markdown",
   "metadata": {},
   "source": [
    "# LightGBM"
   ]
  },
  {
   "cell_type": "code",
   "execution_count": 31,
   "metadata": {
    "collapsed": true
   },
   "outputs": [],
   "source": [
    "import lightgbm as lgb\n"
   ]
  },
  {
   "cell_type": "code",
   "execution_count": 32,
   "metadata": {
    "collapsed": true
   },
   "outputs": [],
   "source": [
    "#sampled_train = train.ix[4000001:8000000, :]\n",
    "sampled_train = train.ix[:1000,:]"
   ]
  },
  {
   "cell_type": "code",
   "execution_count": 33,
   "metadata": {
    "collapsed": false
   },
   "outputs": [],
   "source": [
    "X_train, X_test, y_train, y_test = train_test_split(sampled_train[cols_to_use], sampled_train['click'], test_size = 0.5)\n",
    "\n",
    "dtrain = lgb.Dataset(X_train, y_train)\n",
    "dval = lgb.Dataset(X_test, y_test)"
   ]
  },
  {
   "cell_type": "code",
   "execution_count": 34,
   "metadata": {
    "collapsed": true
   },
   "outputs": [],
   "source": [
    "params = {\n",
    "    \n",
    "    'num_leaves' : 256,\n",
    "    'learning_rate':0.05,\n",
    "    'metric':'auc',\n",
    "    'objective':'binary',\n",
    "    'early_stopping_round': 40,\n",
    "    'max_depth':14,\n",
    "    'bagging_fraction':0.5,\n",
    "    'feature_fraction':0.6,\n",
    "    'bagging_seed':2017,\n",
    "    'feature_fraction_seed':2017,\n",
    "    'verbose' : 1\n",
    "    \n",
    "    \n",
    "}\n",
    "\n"
   ]
  },
  {
   "cell_type": "code",
   "execution_count": 35,
   "metadata": {
    "collapsed": false
   },
   "outputs": [
    {
     "name": "stdout",
     "output_type": "stream",
     "text": [
      "[20]\tvalid_0's auc: 0.883023\n",
      "[40]\tvalid_0's auc: 0.889694\n",
      "[60]\tvalid_0's auc: 0.882103\n",
      "[80]\tvalid_0's auc: 0.89211\n",
      "[100]\tvalid_0's auc: 0.89234\n",
      "[120]\tvalid_0's auc: 0.881873\n",
      "[140]\tvalid_0's auc: 0.880492\n",
      "[160]\tvalid_0's auc: 0.872556\n",
      "[180]\tvalid_0's auc: 0.862434\n",
      "[200]\tvalid_0's auc: 0.856223\n",
      "[220]\tvalid_0's auc: 0.855418\n",
      "[240]\tvalid_0's auc: 0.852542\n",
      "[260]\tvalid_0's auc: 0.852082\n",
      "[280]\tvalid_0's auc: 0.847941\n",
      "[300]\tvalid_0's auc: 0.845411\n",
      "[320]\tvalid_0's auc: 0.84288\n",
      "[340]\tvalid_0's auc: 0.840235\n",
      "[360]\tvalid_0's auc: 0.84081\n",
      "[380]\tvalid_0's auc: 0.84058\n",
      "[400]\tvalid_0's auc: 0.839199\n",
      "[420]\tvalid_0's auc: 0.841385\n",
      "[440]\tvalid_0's auc: 0.842535\n",
      "[460]\tvalid_0's auc: 0.84196\n",
      "[480]\tvalid_0's auc: 0.84081\n",
      "[500]\tvalid_0's auc: 0.84081\n"
     ]
    }
   ],
   "source": [
    "clf = lgb.train(params, dtrain,num_boost_round=500,valid_sets=dval,verbose_eval=20)"
   ]
  },
  {
   "cell_type": "code",
   "execution_count": 36,
   "metadata": {
    "collapsed": true
   },
   "outputs": [],
   "source": [
    "#LightGBM\n",
    "preds = clf.predict(test[cols_to_use])\n",
    "sub = pd.DataFrame({'ID':test['ID'], 'click':preds})\n",
    "sub.to_csv('lgb_1.csv', index=False)"
   ]
  },
  {
   "cell_type": "code",
   "execution_count": 39,
   "metadata": {
    "collapsed": false
   },
   "outputs": [
    {
     "ename": "NameError",
     "evalue": "name 'preds' is not defined",
     "output_type": "error",
     "traceback": [
      "\u001b[0;31m---------------------------------------------------------------------------\u001b[0m",
      "\u001b[0;31mNameError\u001b[0m                                 Traceback (most recent call last)",
      "\u001b[0;32m<ipython-input-39-57e643e0cd99>\u001b[0m in \u001b[0;36m<module>\u001b[0;34m()\u001b[0m\n\u001b[0;32m----> 1\u001b[0;31m \u001b[0;32mdel\u001b[0m \u001b[0mpreds\u001b[0m\u001b[0;34m\u001b[0m\u001b[0m\n\u001b[0m\u001b[1;32m      2\u001b[0m \u001b[0;32mdel\u001b[0m \u001b[0msub\u001b[0m\u001b[0;34m\u001b[0m\u001b[0m\n\u001b[1;32m      3\u001b[0m \u001b[0;34m\u001b[0m\u001b[0m\n\u001b[1;32m      4\u001b[0m \u001b[0;32mdel\u001b[0m \u001b[0mX_train\u001b[0m\u001b[0;34m\u001b[0m\u001b[0m\n\u001b[1;32m      5\u001b[0m \u001b[0;32mdel\u001b[0m \u001b[0my_train\u001b[0m\u001b[0;34m\u001b[0m\u001b[0m\n",
      "\u001b[0;31mNameError\u001b[0m: name 'preds' is not defined"
     ]
    }
   ],
   "source": [
    "del preds\n",
    "del sub\n"
   ]
  },
  {
   "cell_type": "markdown",
   "metadata": {
    "collapsed": true
   },
   "source": [
    "# 3rd Model"
   ]
  },
  {
   "cell_type": "code",
   "execution_count": 13,
   "metadata": {
    "collapsed": true
   },
   "outputs": [],
   "source": [
    "    sampled_train = train.ix[8000001:10000000, :]"
   ]
  },
  {
   "cell_type": "code",
   "execution_count": 14,
   "metadata": {
    "collapsed": true
   },
   "outputs": [],
   "source": [
    "trainX = sampled_train[cols_to_use]\n",
    "trainY = sampled_train['click']"
   ]
  },
  {
   "cell_type": "code",
   "execution_count": 42,
   "metadata": {
    "collapsed": true
   },
   "outputs": [],
   "source": []
  },
  {
   "cell_type": "code",
   "execution_count": 15,
   "metadata": {
    "collapsed": true
   },
   "outputs": [],
   "source": [
    "X_train, X_test, y_train, y_test = train_test_split(trainX, trainY, test_size = 0.5)\n",
    "model = CatBoostClassifier(depth=10, iterations=20, learning_rate=0.2, eval_metric='AUC', random_seed=1)\n"
   ]
  },
  {
   "cell_type": "code",
   "execution_count": 16,
   "metadata": {
    "collapsed": false
   },
   "outputs": [
    {
     "data": {
      "text/plain": [
       "<catboost.core.CatBoostClassifier at 0x7fd730c020b8>"
      ]
     },
     "execution_count": 16,
     "metadata": {},
     "output_type": "execute_result"
    }
   ],
   "source": [
    "model.fit(X_train\n",
    "          ,y_train\n",
    "          ,cat_features=cat_cols\n",
    "          ,eval_set = (X_test, y_test)\n",
    "          ,use_best_model = True\n",
    "         )"
   ]
  },
  {
   "cell_type": "code",
   "execution_count": 17,
   "metadata": {
    "collapsed": true
   },
   "outputs": [],
   "source": [
    "pred = model.predict_proba(test[cols_to_use])[:,1]\n",
    "sub = pd.DataFrame({'ID':test['ID'],'click':pred})\n",
    "sub.to_csv('cb_2.csv',index=False)\n"
   ]
  },
  {
   "cell_type": "code",
   "execution_count": 18,
   "metadata": {
    "collapsed": true
   },
   "outputs": [],
   "source": [
    "del pred\n",
    "del sub\n",
    "del trainX\n",
    "del trainY\n",
    "del X_train\n",
    "del y_train"
   ]
  },
  {
   "cell_type": "code",
   "execution_count": 19,
   "metadata": {
    "collapsed": true
   },
   "outputs": [],
   "source": [
    "\n",
    "#--------------------------------------------------------\n",
    "cb_1 = pd.read_csv(\"cb_1.csv\")\n",
    "lbg_1 = pd.read_csv(\"lgb_1.csv\")\n",
    "cb_2 = pd.read_csv(\"cb_2.csv\")\n",
    "#--------------------------------------------------------\n"
   ]
  },
  {
   "cell_type": "code",
   "execution_count": 22,
   "metadata": {
    "collapsed": false
   },
   "outputs": [],
   "source": [
    "submit=cb_1.copy()\n",
    "A_mul = cb_1.ix[:,1]*0.41\n",
    "B_mul = lbg_1.ix[:,1]*0.59\n",
    "C_mul = cb_2.ix[:,1]*0.59\n",
    "D_mul = (A_mul+B_mul)*0.41\n",
    "submit.ix[:,1] = C_mul+D_mul\n",
    "\n",
    "submit.to_csv('ensemble_sub_1.csv', index=False)"
   ]
  },
  {
   "cell_type": "code",
   "execution_count": null,
   "metadata": {
    "collapsed": true
   },
   "outputs": [],
   "source": []
  }
 ],
 "metadata": {
  "kernelspec": {
   "display_name": "Python 3",
   "language": "python",
   "name": "python3"
  },
  "language_info": {
   "codemirror_mode": {
    "name": "ipython",
    "version": 3
   },
   "file_extension": ".py",
   "mimetype": "text/x-python",
   "name": "python",
   "nbconvert_exporter": "python",
   "pygments_lexer": "ipython3",
   "version": "3.6.0"
  }
 },
 "nbformat": 4,
 "nbformat_minor": 2
}
